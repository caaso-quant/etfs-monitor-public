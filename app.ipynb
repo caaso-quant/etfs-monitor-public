{
 "cells": [
  {
   "cell_type": "markdown",
   "source": [
    "# NDT - ETFs Monitor\n",
    "## <font color='#2e86e0'>Numbers Doing Trade - Hackaton Bloomberg 2021</font>\n",
    "- - -\n",
    "\n",
    "## Funcionalidades\n",
    "### Seleção de ETFs:\n",
    "* Visualização de todos os ETFs listados na bolsa brasileira.\n",
    "* Opção de coloração por correlação com drivers macroeconômicos.\n",
    "* Opção de coloração por retorno de 1 ano e 1 semana.\n",
    "* Agrupamento e filtragem por características intrínsecas dos ETFs.\n",
    "\n",
    "### Análise e comparação de ETFs:\n",
    "* Possibilidade de selecionar múltiplos ETFs.\n",
    "* Comparar retornos de ETFs selecionados e respectivos benchmarks.\n",
    "* Exibição de gráfico de fronteira eficiente de Markowitz.\n",
    "* Comparar volatilidade dos ETFs selecionados.\n",
    "* Comparar volume de negociações.\n",
    "* Analisar tracking error em relação aos respectivos benchmarks.\n",
    "* Visualização de gráfico de área ponderada pela correlação com drivers macroeconômicos.\n",
    "* Visualização de holdings dos ETFs e pesos relativos.\n",
    "* Listagem de informações adicionais sobre os ETFs selecionados.\n",
    "\n",
    "- - -"
   ],
   "metadata": {}
  },
  {
   "cell_type": "code",
   "execution_count": 31,
   "source": [
    "%load_ext autoreload\n",
    "%autoreload 2\n",
    "from app import AppView\n",
    "import ipywidgets as widgets\n"
   ],
   "outputs": [
    {
     "output_type": "stream",
     "name": "stdout",
     "text": [
      "The autoreload extension is already loaded. To reload it, use:\n",
      "  %reload_ext autoreload\n"
     ]
    }
   ],
   "metadata": {}
  },
  {
   "cell_type": "code",
   "execution_count": 32,
   "source": [
    "\n",
    "app = AppView()\n",
    "app.show()"
   ],
   "outputs": [
    {
     "output_type": "display_data",
     "data": {
      "text/plain": [
       "HBox(children=(VBox(children=(Button(description='Esconder', layout=Layout(margin='10px 0px 10px 5px'), style=…"
      ],
      "application/vnd.jupyter.widget-view+json": {
       "version_major": 2,
       "version_minor": 0,
       "model_id": "e9338b5c216c41a381a929ad06a92cb9"
      }
     },
     "metadata": {}
    }
   ],
   "metadata": {}
  },
  {
   "cell_type": "code",
   "execution_count": null,
   "source": [],
   "outputs": [],
   "metadata": {}
  },
  {
   "cell_type": "code",
   "execution_count": null,
   "source": [],
   "outputs": [],
   "metadata": {}
  }
 ],
 "metadata": {
  "interpreter": {
   "hash": "dac05c3744ec032d68e752faa3e08cb80fef16b7ede12051ef768afd54dfcd9f"
  },
  "kernelspec": {
   "display_name": "Python 3.9.5 64-bit ('.venv': venv)",
   "name": "python3"
  },
  "language_info": {
   "name": "python",
   "version": ""
  },
  "orig_nbformat": 4
 },
 "nbformat": 4,
 "nbformat_minor": 2
}